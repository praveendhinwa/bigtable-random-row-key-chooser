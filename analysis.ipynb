{
 "cells": [
  {
   "cell_type": "code",
   "execution_count": 124,
   "metadata": {},
   "outputs": [],
   "source": [
    "MAX = 2**40\n",
    "PREF_DIGITS = 2;\n",
    "N = 100000"
   ]
  },
  {
   "cell_type": "code",
   "execution_count": 128,
   "metadata": {},
   "outputs": [],
   "source": [
    "import random\n",
    "\n",
    "def gcd(a, b):\n",
    "\tif b == 0:\n",
    "\t\treturn a\n",
    "\treturn gcd(b, a % b)\n",
    "\n",
    "def isPrime(n):\n",
    "    i = 2\n",
    "    while i * i <= n:\n",
    "            if n % i == 0:\n",
    "                    return False\n",
    "            i += 1\n",
    "    return True\n",
    "\n",
    "def getMod():\n",
    "    for i in range(1000000):\n",
    "        if (isPrime(MAX - i)):\n",
    "            return MAX - i\n",
    "    return -1\n",
    "\n",
    "def getLargest10Power(n):\n",
    "    num = 1\n",
    "    while True:\n",
    "        if num > n:\n",
    "            return num // 10\n",
    "        num *= 10\n",
    "\n",
    "def getLargeCoprime(n):\n",
    "    L = getLargest10Power(n)\n",
    "    for i in range(1000000):\n",
    "        num = L - i - 1\n",
    "        if gcd(num, MOD) == 1:\n",
    "            return num\n",
    "                \n",
    "MOD = getMod()\n",
    "INV_MOD = getLargeCoprime(MOD)\n"
   ]
  },
  {
   "cell_type": "code",
   "execution_count": 129,
   "metadata": {},
   "outputs": [
    {
     "data": {
      "text/plain": [
       "1099511627689"
      ]
     },
     "execution_count": 129,
     "metadata": {},
     "output_type": "execute_result"
    }
   ],
   "source": [
    "MOD"
   ]
  },
  {
   "cell_type": "code",
   "execution_count": 130,
   "metadata": {},
   "outputs": [
    {
     "data": {
      "text/plain": [
       "999999999999"
      ]
     },
     "execution_count": 130,
     "metadata": {},
     "output_type": "execute_result"
    }
   ],
   "source": [
    "INV_MOD"
   ]
  },
  {
   "cell_type": "code",
   "execution_count": 131,
   "metadata": {},
   "outputs": [],
   "source": [
    "from collections import OrderedDict \n",
    "d = OrderedDict()\n",
    "for i in range(1, N):\n",
    "    s = str(genId(i))[0:PREF_DIGITS]\n",
    "    pref = int(s)\n",
    "    if pref not in d:\n",
    "        d[pref] = 1\n",
    "    else:\n",
    "        d[pref] += 1"
   ]
  },
  {
   "cell_type": "code",
   "execution_count": 132,
   "metadata": {},
   "outputs": [],
   "source": [
    "counters = OrderedDict(sorted(d.items()))"
   ]
  },
  {
   "cell_type": "code",
   "execution_count": 133,
   "metadata": {},
   "outputs": [
    {
     "name": "stdout",
     "output_type": "stream",
     "text": [
      "10 1107\n",
      "11 1114\n",
      "12 1107\n",
      "13 1111\n",
      "14 1113\n",
      "15 1109\n",
      "16 1111\n",
      "17 1110\n",
      "18 1113\n",
      "19 1115\n",
      "20 1109\n",
      "21 1112\n",
      "22 1111\n",
      "23 1107\n",
      "24 1110\n",
      "25 1113\n",
      "26 1111\n",
      "27 1116\n",
      "28 1111\n",
      "29 1109\n",
      "30 1110\n",
      "31 1112\n",
      "32 1111\n",
      "33 1111\n",
      "34 1109\n",
      "35 1109\n",
      "36 1113\n",
      "37 1114\n",
      "38 1111\n",
      "39 1113\n",
      "40 1111\n",
      "41 1107\n",
      "42 1111\n",
      "43 1110\n",
      "44 1110\n",
      "45 1112\n",
      "46 1109\n",
      "47 1115\n",
      "48 1109\n",
      "49 1110\n",
      "50 1115\n",
      "51 1110\n",
      "52 1110\n",
      "53 1109\n",
      "54 1105\n",
      "55 1115\n",
      "56 1114\n",
      "57 1109\n",
      "58 1116\n",
      "59 1109\n",
      "60 1107\n",
      "61 1115\n",
      "62 1108\n",
      "63 1113\n",
      "64 1113\n",
      "65 1105\n",
      "66 1113\n",
      "67 1113\n",
      "68 1112\n",
      "69 1117\n",
      "70 1107\n",
      "71 1109\n",
      "72 1114\n",
      "73 1108\n",
      "74 1113\n",
      "75 1111\n",
      "76 1111\n",
      "77 1114\n",
      "78 1109\n",
      "79 1112\n",
      "80 1114\n",
      "81 1109\n",
      "82 1113\n",
      "83 1109\n",
      "84 1109\n",
      "85 1111\n",
      "86 1112\n",
      "87 1114\n",
      "88 1114\n",
      "89 1111\n",
      "90 1110\n",
      "91 1109\n",
      "92 1112\n",
      "93 1111\n",
      "94 1113\n",
      "95 1109\n",
      "96 1110\n",
      "97 1113\n",
      "98 1113\n",
      "99 1111\n"
     ]
    }
   ],
   "source": [
    "for key in counters:\n",
    "    print(key, counters[key])"
   ]
  },
  {
   "cell_type": "code",
   "execution_count": 134,
   "metadata": {},
   "outputs": [
    {
     "name": "stdout",
     "output_type": "stream",
     "text": [
      "std 2.5035530307500533\n",
      "mean 1111.1\n"
     ]
    }
   ],
   "source": [
    "import numpy as np\n",
    "a = []\n",
    "for i in range(10**(PREF_DIGITS-1), 10**PREF_DIGITS):\n",
    "    a.append(counters[i])\n",
    "arr = np.array(a)\n",
    "print('std', np.std(arr))\n",
    "print('mean', np.mean(arr))"
   ]
  },
  {
   "cell_type": "code",
   "execution_count": null,
   "metadata": {},
   "outputs": [],
   "source": []
  }
 ],
 "metadata": {
  "kernelspec": {
   "display_name": "Python 3.7.6 64-bit",
   "language": "python",
   "name": "python37664bit874c50089da448f4aea5afd90c274407"
  },
  "language_info": {
   "codemirror_mode": {
    "name": "ipython",
    "version": 3
   },
   "file_extension": ".py",
   "mimetype": "text/x-python",
   "name": "python",
   "nbconvert_exporter": "python",
   "pygments_lexer": "ipython3",
   "version": "3.7.6"
  }
 },
 "nbformat": 4,
 "nbformat_minor": 2
}
